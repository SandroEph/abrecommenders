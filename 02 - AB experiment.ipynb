{
 "cells": [
  {
   "cell_type": "markdown",
   "id": "3e61b471",
   "metadata": {},
   "source": [
    "# A/B Experiment\n",
    "\n",
    "## Introduction\n",
    "\n",
    "## Statistical test"
   ]
  },
  {
   "cell_type": "code",
   "execution_count": 1,
   "id": "2445e7ab",
   "metadata": {},
   "outputs": [],
   "source": [
    "import numpy as np\n",
    "import scipy.stats\n",
    "import math\n",
    "import matplotlib.pyplot as plt\n",
    "from ipywidgets import interact"
   ]
  },
  {
   "cell_type": "markdown",
   "id": "7083c82c",
   "metadata": {},
   "source": [
    "## Estimating needed sample size\n",
    "\n",
    "One of the most accurate and used ways to estimate sample size n using the statistical significance and power and the minimum detectable effect (MDE) is the following formula from [[1]](#1):\n",
    "\n",
    "$$ n'=\\frac{\\left (  z_{\\alpha/2}\\sqrt{\\strut2\\bar{P}\\bar{Q}} + z_{\\beta}\\sqrt{\\strut P_1Q_1 + P_2Q_2}\\right )^{2}}{\\left ( P_2 - P_1 \\right )^2}$$\n",
    "\n",
    "</br>\n",
    "$$ n = \\dfrac{n'}{4}\\left ( 1+\\sqrt{\\strut1+\\dfrac{4}{n'\\left | P_2 - P_1 \\right |}}\\right)^2 $$\n",
    "\n",
    "where :\n",
    "\n",
    "- $n'$ is sample size without correction and $n$ is sample size with the correction\n",
    "- $P_1$ and $P_2$ are the population proportions (baseline and expected)\n",
    "- $Q_i = 1 - P_i$\n",
    "- $\\bar{P}=\\frac{P_1 + P_2}{2}$\n",
    "- $z_{\\alpha/2}$ is the cutoff value of probability $\\alpha/2$ ($\\alpha$ the probability of a type I error) in the standard normal distribution\n",
    "- $z_{\\beta}$ is the cutoff value of probability $\\beta$ in the standard normal distribution ($\\beta$ the probability of a type II error, or 1 - power)\n",
    "\n",
    "It is quite easy to change this formula to one that is expressed in function of $p$, the baseline proportion (or probability) and the MDE $\\Delta$ by setting $p_1=p$ and $p_2 = p_1 + \\Delta$.\n",
    "\n",
    "In the case presented, $P_1$, the (known) baseline probability is 7% (obtained by previous experiment).\n",
    "The minimum detectable effect needs to be set by considering the business aspect of the problem, namely, what improvement would be a good outcome if statistically proven or what improvement would be enough to justify the switch to the tested effect. Any improvement smaller than does not need to be statistically detectable as it anyway won't be a success on the business aspect. It is worth noting that the smaller the needed minimum detectable effect, the larger the population size; the reason why it should be chosen wisely. Also, it should be chosen conservatively as there's a possibility that the baseline probability slightly changes during the experiment. Finally, it's important to keep in mind that this MDE is a detectable effect that can be towards both directions, it can be an improvement but also (hopefully not) a deterioration on the CTR.\n",
    "\n",
    "#### Does that mean that if the resulting effect is less than 4%, it won't be detected ?\n",
    "\n",
    "No, although this a common misconseption, it means that if the resulting effect is less than 4%, the power of experiment will be less than 90%. That's why a lot of publications started refering to the MDE as Minimum Reliably Detectable Effect (MRDE). More about MDE [here](https://towardsdatascience.com/how-to-set-the-minimum-detectable-effect-in-ab-tests-fe07f8002d6d)."
   ]
  },
  {
   "cell_type": "code",
   "execution_count": 2,
   "id": "413d19a4",
   "metadata": {},
   "outputs": [],
   "source": [
    "def z_value(p):\n",
    "    return scipy.stats.norm.ppf(1 - p)"
   ]
  },
  {
   "cell_type": "code",
   "execution_count": 3,
   "id": "bfe80f8f",
   "metadata": {},
   "outputs": [],
   "source": [
    "def sample_size(p1, p2, alpha, beta):\n",
    "    if p1 == p2:\n",
    "        raise Exception(\"p1 and p2 can not be the equal\")\n",
    "    q1 = 1 - p1\n",
    "    q2 = 1 - p2\n",
    "    pb = (p1+p2) / 2\n",
    "    qb = (q1+q2) / 2\n",
    "    npr = (((z_value(alpha/2)*math.sqrt(2*pb*qb))+(z_value(beta)*math.sqrt(p1*q1+p2*q2)))**2)/((p2-p1)**2)\n",
    "    n = npr*0.25*(1+math.sqrt(1+4/(npr*abs(p2-p1))))**2\n",
    "    return math.ceil(n)"
   ]
  },
  {
   "cell_type": "markdown",
   "id": "d1734ee7",
   "metadata": {},
   "source": [
    "Here we can play around the p1, p2, alpha and beta values to understand better how does the sample size vary with those parameters"
   ]
  },
  {
   "cell_type": "code",
   "execution_count": 4,
   "id": "8f22342c",
   "metadata": {
    "scrolled": true
   },
   "outputs": [
    {
     "data": {
      "application/vnd.jupyter.widget-view+json": {
       "model_id": "b642c20a70af411bb7d61d479692650f",
       "version_major": 2,
       "version_minor": 0
      },
      "text/plain": [
       "interactive(children=(FloatSlider(value=0.32, description='p1', max=1.0, step=0.01), FloatSlider(value=0.36, d…"
      ]
     },
     "metadata": {},
     "output_type": "display_data"
    }
   ],
   "source": [
    "@interact(p1=(0, 1, 0.01), p2=(0, 1, 0.01), alpha=(0, 1, 0.01), beta=(0, 1, 0.01))\n",
    "def sample_size_interact(p1=0.32, p2=0.36, alpha=0.05, beta=0.1):\n",
    "    return \"Sample size :  {}\".format(sample_size(p1, p2, alpha, beta))"
   ]
  },
  {
   "cell_type": "markdown",
   "id": "8edc9053",
   "metadata": {},
   "source": [
    "## Recommenders experiment\n",
    "\n",
    "Considering the case presented here, the baseline click-through rate is reported to be 7%. The objective of the team is to increase the recommender click-through rate to at least 4% or else the change wouldn't be worth implementing. So the minimum desired expected proportion is 11%"
   ]
  },
  {
   "cell_type": "code",
   "execution_count": 5,
   "id": "71d325fc",
   "metadata": {},
   "outputs": [
    {
     "data": {
      "text/plain": [
       "1124"
      ]
     },
     "execution_count": 5,
     "metadata": {},
     "output_type": "execute_result"
    }
   ],
   "source": [
    "sample_size(0.07, 0.11, 0.05, 0.1)"
   ]
  },
  {
   "cell_type": "code",
   "execution_count": 6,
   "id": "b18e3c75",
   "metadata": {},
   "outputs": [
    {
     "data": {
      "image/png": "[encoded data removed]",
      "text/plain": [
       "<Figure size 432x288 with 1 Axes>"
      ]
     },
     "metadata": {
      "needs_background": "light"
     },
     "output_type": "display_data"
    }
   ],
   "source": [
    "possible_p2 = list(np.arange(0.1, 0.20, 0.005))\n",
    "samples_sizes = [sample_size(0.07, p2, 0.05, 0.1) for p2 in possible_p2]\n",
    "plt.plot(possible_p2, samples_sizes, marker='*')\n",
    "plt.xlabel(\"$p_2$\")\n",
    "plt.ylabel(\"Required sample size\")\n",
    "plt.show()"
   ]
  },
  {
   "cell_type": "markdown",
   "id": "da7ff722",
   "metadata": {},
   "source": [
    "To correctly run the experiment, the sample size must be at least **1124 user** per recommender. \n",
    "\n",
    "The experiment will be ran until each recommender has been tested with at least 1130 users."
   ]
  },
  {
   "cell_type": "markdown",
   "id": "a7869999",
   "metadata": {},
   "source": [
    "## References\n",
    "<a id='1'>[1]</a> Fleiss, J. L. (1973). Statistical methods for rates and proportions. p. 75 New York: J. Wiley."
   ]
  }
 ],
 "metadata": {
  "kernelspec": {
   "display_name": "Python 3 (ipykernel)",
   "language": "python",
   "name": "python3"
  },
  "language_info": {
   "codemirror_mode": {
    "name": "ipython",
    "version": 3
   },
   "file_extension": ".py",
   "mimetype": "text/x-python",
   "name": "python",
   "nbconvert_exporter": "python",
   "pygments_lexer": "ipython3",
   "version": "3.8.13"
  }
 },
 "nbformat": 4,
 "nbformat_minor": 5
}
